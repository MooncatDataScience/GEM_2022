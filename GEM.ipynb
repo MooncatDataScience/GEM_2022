{
 "cells": [
  {
   "cell_type": "code",
   "execution_count": 1,
   "metadata": {},
   "outputs": [],
   "source": [
    "import pandas as pd\n",
    "import matplotlib.pyplot as plt\n",
    "import seaborn as sns\n",
    "import os\n",
    "import glob\n",
    "import numpy as np\n",
    "import torch"
   ]
  },
  {
   "cell_type": "code",
   "execution_count": 2,
   "metadata": {},
   "outputs": [],
   "source": [
    "df_train = glob.glob(os.path.join(\"FD00*_df_train.csv\"))\n",
    "df_test = glob.glob(os.path.join(\"FD00*_df_test.csv\"))"
   ]
  },
  {
   "cell_type": "code",
   "execution_count": 3,
   "metadata": {},
   "outputs": [],
   "source": [
    "train = pd.read_csv(df_train[0], index_col=0)\n",
    "test = pd.read_csv(df_test[0], index_col=0)"
   ]
  },
  {
   "cell_type": "code",
   "execution_count": 4,
   "metadata": {},
   "outputs": [],
   "source": [
    "train['RUL'] = max(train['time_in_cycles']) - train['time_in_cycles']\n",
    "test['RUL'] = max(test['time_in_cycles']) - test['time_in_cycles']"
   ]
  },
  {
   "cell_type": "code",
   "execution_count": 5,
   "metadata": {},
   "outputs": [],
   "source": [
    "train.drop(columns=['time_in_cycles'], inplace=True)\n",
    "test.drop(columns=['time_in_cycles'], inplace=True)"
   ]
  },
  {
   "cell_type": "code",
   "execution_count": 6,
   "metadata": {},
   "outputs": [],
   "source": [
    "train_engine = train.groupby('engine_no').transform(lambda x: max(x) - x)\n",
    "test_engine = test.groupby('engine_no').transform(lambda x: max(x) - x)"
   ]
  },
  {
   "cell_type": "code",
   "execution_count": 7,
   "metadata": {},
   "outputs": [],
   "source": [
    "train_engine.drop(columns=['op_setting_1', 'op_setting_2', 'op_setting_3'], inplace=True)\n",
    "test_engine.drop(columns=['op_setting_1', 'op_setting_2', 'op_setting_3'], inplace=True)"
   ]
  },
  {
   "cell_type": "code",
   "execution_count": 8,
   "metadata": {},
   "outputs": [],
   "source": [
    "train_engine['engine_no'] = train['engine_no']\n",
    "test_engine['engine_no'] = test['engine_no']"
   ]
  },
  {
   "attachments": {},
   "cell_type": "markdown",
   "metadata": {},
   "source": [
    "# 預先處理資料集"
   ]
  },
  {
   "cell_type": "code",
   "execution_count": 9,
   "metadata": {},
   "outputs": [],
   "source": [
    "train_data = train_engine.dropna(axis='columns')\n",
    "test_data = test_engine.dropna(axis='columns')"
   ]
  },
  {
   "cell_type": "code",
   "execution_count": 10,
   "metadata": {},
   "outputs": [],
   "source": [
    "train_rul = train_data['RUL']\n",
    "test_rul = test_data['RUL']"
   ]
  },
  {
   "cell_type": "code",
   "execution_count": 11,
   "metadata": {},
   "outputs": [],
   "source": [
    "del train_data['RUL']\n",
    "del test_data['RUL']"
   ]
  },
  {
   "attachments": {},
   "cell_type": "markdown",
   "metadata": {},
   "source": [
    "#### 切分: 測試、驗證、訓練"
   ]
  },
  {
   "attachments": {},
   "cell_type": "markdown",
   "metadata": {},
   "source": [
    "* 打包測試集"
   ]
  },
  {
   "cell_type": "code",
   "execution_count": 12,
   "metadata": {},
   "outputs": [],
   "source": [
    "from sklearn.model_selection import train_test_split\n",
    "X_train, Y_train, X_test, Y_test = train_test_split(train_data, train_rul, test_size=0.2)"
   ]
  },
  {
   "cell_type": "code",
   "execution_count": 13,
   "metadata": {},
   "outputs": [
    {
     "name": "stdout",
     "output_type": "stream",
     "text": [
      "torch.Size([16504, 22])\n",
      "torch.Size([16504])\n",
      "torch.Size([4127, 22])\n",
      "torch.Size([4127])\n"
     ]
    }
   ],
   "source": [
    "X_train = torch.tensor(X_train.values)\n",
    "Y_train = torch.tensor(Y_train.values)\n",
    "X_test = torch.tensor(np.array(X_test))\n",
    "Y_test = torch.tensor(np.array(Y_test))\n",
    "print(X_train.shape)\n",
    "print(X_test.shape)\n",
    "print(Y_train.shape)\n",
    "print(Y_test.shape)"
   ]
  },
  {
   "cell_type": "code",
   "execution_count": 14,
   "metadata": {},
   "outputs": [],
   "source": [
    "from torch.utils.data import TensorDataset, DataLoader\n",
    "X_dataset = TensorDataset(X_train, X_test)\n",
    "Y_dataset = TensorDataset(Y_train, Y_test)\n",
    "train_loader = DataLoader(X_dataset, batch_size=22, shuffle=True)\n",
    "test_loader = DataLoader(Y_dataset, batch_size=22, shuffle=True)"
   ]
  },
  {
   "attachments": {},
   "cell_type": "markdown",
   "metadata": {},
   "source": [
    "* 打包測試集"
   ]
  },
  {
   "cell_type": "code",
   "execution_count": 15,
   "metadata": {},
   "outputs": [],
   "source": [
    "train_x, train_y, val_x, val_y = train_test_split(test_data, test_rul, test_size=0.2)"
   ]
  },
  {
   "cell_type": "code",
   "execution_count": 16,
   "metadata": {},
   "outputs": [
    {
     "name": "stdout",
     "output_type": "stream",
     "text": [
      "torch.Size([10476, 22])\n",
      "torch.Size([10476])\n",
      "torch.Size([2620, 22])\n",
      "torch.Size([2620])\n"
     ]
    }
   ],
   "source": [
    "train_x = torch.tensor(train_x.values)\n",
    "train_y = torch.tensor(train_y.values)\n",
    "val_x = torch.tensor(np.array(val_x))\n",
    "val_y = torch.tensor(np.array(val_y))\n",
    "print(train_x.shape)\n",
    "print(val_x.shape)\n",
    "print(train_y.shape)\n",
    "print(val_y.shape)"
   ]
  },
  {
   "cell_type": "code",
   "execution_count": 17,
   "metadata": {},
   "outputs": [],
   "source": [
    "from torch.utils.data import TensorDataset, DataLoader\n",
    "test_X_dataset = TensorDataset(train_x, val_x)\n",
    "test_Y_dataset = TensorDataset(train_y, val_y)\n",
    "val_train_loader = DataLoader(X_dataset, batch_size=22, shuffle=True)\n",
    "val_test_loader = DataLoader(Y_dataset, batch_size=22, shuffle=True)"
   ]
  },
  {
   "attachments": {},
   "cell_type": "markdown",
   "metadata": {},
   "source": [
    "# 建立Bnn 並開始訓練"
   ]
  },
  {
   "cell_type": "code",
   "execution_count": 18,
   "metadata": {},
   "outputs": [],
   "source": [
    "import torchbnn as bnn\n",
    "\n",
    "class BayesianNet(torch.nn.Module):\n",
    "    def __init__(self):\n",
    "        super(BayesianNet, self).__init__()\n",
    "        self.hid = bnn.BayesLinear(prior_mu = 0, prior_sigma = 0.1, in_features=22, out_features=100)\n",
    "        self.oupt = bnn.BayesLinear(prior_mu=0, prior_sigma=0.1,in_features=100, out_features=10)\n",
    "    \n",
    "    def forward(self, x):\n",
    "        z = torch.relu(self.hid(x))\n",
    "        z = self.oupt(z)\n",
    "        return z"
   ]
  },
  {
   "cell_type": "code",
   "execution_count": 19,
   "metadata": {},
   "outputs": [],
   "source": [
    "net = BayesianNet()"
   ]
  },
  {
   "cell_type": "code",
   "execution_count": 20,
   "metadata": {},
   "outputs": [],
   "source": [
    "bat_size = 4\n",
    "max_epochs = 100\n",
    "ep_log_interval = 10\n",
    "\n",
    "ce_loss = torch.nn.CrossEntropyLoss()\n",
    "kl_loss = bnn.BKLLoss(reduction = 'mean', last_layer_only = False)\n",
    "optimizer = torch.optim.Adam(net.parameters(), lr = 0.01)"
   ]
  },
  {
   "cell_type": "code",
   "execution_count": 21,
   "metadata": {},
   "outputs": [
    {
     "name": "stdout",
     "output_type": "stream",
     "text": [
      "\n",
      "bat_size =   4 \n",
      "loss = highly customized \n",
      "optimizer = Adam 0.01\n",
      "max_epochs = 100 \n",
      "\n",
      "Starting training\n"
     ]
    }
   ],
   "source": [
    "print(\"\\nbat_size = %3d \" % bat_size)\n",
    "print(\"loss = highly customized \")\n",
    "print(\"optimizer = Adam 0.01\")\n",
    "print(\"max_epochs = %3d \" % max_epochs)\n",
    "print(\"\\nStarting training\")"
   ]
  },
  {
   "cell_type": "code",
   "execution_count": 22,
   "metadata": {},
   "outputs": [],
   "source": [
    "def validate(net, val_loader, num_classes):\n",
    "    net.eval()\n",
    "    total_correct = 0\n",
    "    total_samples = 0\n",
    "\n",
    "    with torch.no_grad():\n",
    "        for inputs, labels in val_loader:\n",
    "            inputs = inputs.to(torch.float)\n",
    "            labels = labels.view(-1).to(torch.long).clamp(0, num_classes - 1)\n",
    "\n",
    "            outputs = net(inputs)\n",
    "            _, preds = outputs.max(dim=1)\n",
    "            total_correct += (preds == labels).sum().item()\n",
    "            total_samples += labels.size(0)\n",
    "\n",
    "    return total_correct / total_samples"
   ]
  },
  {
   "cell_type": "code",
   "execution_count": 23,
   "metadata": {},
   "outputs": [
    {
     "name": "stdout",
     "output_type": "stream",
     "text": [
      "Epoch 0: CE Loss = 0.0003, KL Loss = 0.2111, Total Loss = 0.2114, Validation Accuracy = 0.9511\n",
      "Epoch 10: CE Loss = 0.0935, KL Loss = 0.1818, Total Loss = 0.2753, Validation Accuracy = 0.9506\n",
      "Epoch 20: CE Loss = 0.1233, KL Loss = 0.1800, Total Loss = 0.3033, Validation Accuracy = 0.9503\n",
      "Epoch 30: CE Loss = 0.0164, KL Loss = 0.1771, Total Loss = 0.1936, Validation Accuracy = 0.9518\n",
      "Epoch 40: CE Loss = 0.0593, KL Loss = 0.1630, Total Loss = 0.2222, Validation Accuracy = 0.9402\n",
      "Epoch 50: CE Loss = 0.0376, KL Loss = 0.1837, Total Loss = 0.2214, Validation Accuracy = 0.9477\n",
      "Epoch 60: CE Loss = 0.0442, KL Loss = 0.1850, Total Loss = 0.2292, Validation Accuracy = 0.9489\n",
      "Epoch 70: CE Loss = 1.1663, KL Loss = 0.1983, Total Loss = 1.3646, Validation Accuracy = 0.9409\n",
      "Epoch 80: CE Loss = 0.0202, KL Loss = 0.2008, Total Loss = 0.2210, Validation Accuracy = 0.9525\n",
      "Epoch 90: CE Loss = 0.5774, KL Loss = 0.2021, Total Loss = 0.7795, Validation Accuracy = 0.9520\n"
     ]
    }
   ],
   "source": [
    "train_deviance_values = []\n",
    "num_classes = 10\n",
    "for epoch in range(max_epochs):\n",
    "    for inputs, labels in train_loader:\n",
    "        inputs = inputs.to(torch.float)\n",
    "        labels = labels.view(-1).to(torch.long).clamp(0, num_classes - 1)\n",
    "        \n",
    "        optimizer.zero_grad()\n",
    "        outputs = net(inputs)\n",
    "    \n",
    "        ce_loss_value = ce_loss(outputs, labels)\n",
    "        kl_loss_value = kl_loss(net)\n",
    "        loss_value = ce_loss_value + kl_loss_value\n",
    "\n",
    "        loss_value.backward()\n",
    "        optimizer.step()\n",
    "\n",
    "        deviance = loss_value.item()\n",
    "        train_deviance_values.append(deviance)\n",
    "\n",
    "    if epoch % ep_log_interval == 0:\n",
    "        val_acc = validate(net, test_loader, num_classes)\n",
    "        print(f'Epoch {epoch}: CE Loss = {ce_loss_value.item():.4f}, KL Loss = {kl_loss_value.item():.4f}, Total Loss = {loss_value.item():.4f}, Validation Accuracy = {val_acc:.4f}')\n"
   ]
  },
  {
   "cell_type": "code",
   "execution_count": 24,
   "metadata": {},
   "outputs": [],
   "source": [
    "def get_prediction_scores(net, data_loader):\n",
    "    net.eval()\n",
    "    scores = []\n",
    "    labels = []\n",
    "\n",
    "    with torch.no_grad():\n",
    "        for inputs, target in data_loader:\n",
    "            inputs = inputs.to(torch.float)\n",
    "            scores.extend(net(inputs).squeeze().tolist())\n",
    "            labels.extend(target.tolist())\n",
    "\n",
    "    return scores, labels\n",
    "\n",
    "test_scores, test_labels = get_prediction_scores(net, test_loader)"
   ]
  },
  {
   "attachments": {},
   "cell_type": "markdown",
   "metadata": {},
   "source": [
    "# 驗證模型"
   ]
  },
  {
   "cell_type": "code",
   "execution_count": 25,
   "metadata": {},
   "outputs": [
    {
     "name": "stdout",
     "output_type": "stream",
     "text": [
      "RMSE = 9490.0107\n"
     ]
    }
   ],
   "source": [
    "from sklearn.metrics import mean_squared_error\n",
    "y_true = np.array(train_rul)\n",
    "y_pred = np.array(test_labels)\n",
    "print(f'RMSE = {mean_squared_error(Y_test, y_pred):.4f}')"
   ]
  },
  {
   "attachments": {},
   "cell_type": "markdown",
   "metadata": {},
   "source": [
    "# 測試模型"
   ]
  },
  {
   "cell_type": "code",
   "execution_count": 26,
   "metadata": {},
   "outputs": [
    {
     "name": "stdout",
     "output_type": "stream",
     "text": [
      "Epoch 0: CE Loss = 0.0489, KL Loss = 0.2209, Total Loss = 0.2698, Validation Accuracy = 0.9402\n",
      "Epoch 10: CE Loss = 0.0538, KL Loss = 0.1745, Total Loss = 0.2283, Validation Accuracy = 0.9530\n",
      "Epoch 20: CE Loss = 0.0139, KL Loss = 0.1821, Total Loss = 0.1960, Validation Accuracy = 0.9530\n",
      "Epoch 30: CE Loss = 0.0937, KL Loss = 0.1579, Total Loss = 0.2516, Validation Accuracy = 0.9508\n",
      "Epoch 40: CE Loss = 0.0710, KL Loss = 0.2908, Total Loss = 0.3618, Validation Accuracy = 0.9513\n",
      "Epoch 50: CE Loss = 0.0143, KL Loss = 0.1811, Total Loss = 0.1954, Validation Accuracy = 0.9528\n",
      "Epoch 60: CE Loss = 0.0725, KL Loss = 0.2540, Total Loss = 0.3265, Validation Accuracy = 0.9440\n",
      "Epoch 70: CE Loss = 1.5588, KL Loss = 0.2104, Total Loss = 1.7691, Validation Accuracy = 0.9433\n",
      "Epoch 80: CE Loss = 2.1025, KL Loss = 0.1643, Total Loss = 2.2668, Validation Accuracy = 0.9520\n",
      "Epoch 90: CE Loss = 0.0301, KL Loss = 0.1735, Total Loss = 0.2036, Validation Accuracy = 0.9530\n"
     ]
    }
   ],
   "source": [
    "test_deviance_values = []\n",
    "num_classes = 10\n",
    "for epoch in range(max_epochs):\n",
    "    for inputs, labels in val_train_loader:\n",
    "        inputs = inputs.to(torch.float)\n",
    "        labels = labels.view(-1).to(torch.long).clamp(0, num_classes - 1)\n",
    "        \n",
    "        optimizer.zero_grad()\n",
    "        outputs = net(inputs)\n",
    "    \n",
    "        ce_loss_value = ce_loss(outputs, labels)\n",
    "        kl_loss_value = kl_loss(net)\n",
    "        loss_value = ce_loss_value + kl_loss_value\n",
    "\n",
    "        loss_value.backward()\n",
    "        optimizer.step()\n",
    "\n",
    "        deviance = loss_value.item()\n",
    "        test_deviance_values.append(deviance)\n",
    "\n",
    "    if epoch % ep_log_interval == 0:\n",
    "        val_acc = validate(net, val_test_loader, num_classes)\n",
    "        print(f'Epoch {epoch}: CE Loss = {ce_loss_value.item():.4f}, KL Loss = {kl_loss_value.item():.4f}, Total Loss = {loss_value.item():.4f}, Validation Accuracy = {val_acc:.4f}')\n"
   ]
  },
  {
   "cell_type": "code",
   "execution_count": 27,
   "metadata": {},
   "outputs": [],
   "source": [
    "val_scores, val_labels = get_prediction_scores(net, val_test_loader)"
   ]
  },
  {
   "cell_type": "code",
   "execution_count": 28,
   "metadata": {},
   "outputs": [
    {
     "name": "stdout",
     "output_type": "stream",
     "text": [
      "RMSE = 9643.2770\n"
     ]
    }
   ],
   "source": [
    "from sklearn.metrics import mean_squared_error\n",
    "y_true = np.array(test_rul)\n",
    "y_pred = np.array(val_labels)\n",
    "print(f'RMSE = {mean_squared_error(Y_test, y_pred):.4f}')"
   ]
  },
  {
   "cell_type": "code",
   "execution_count": 29,
   "metadata": {},
   "outputs": [],
   "source": [
    "deviance = pd.DataFrame({\n",
    "    'Train deviance' : train_deviance_values,\n",
    "    'Test deviance' : test_deviance_values\n",
    "})"
   ]
  },
  {
   "cell_type": "code",
   "execution_count": 30,
   "metadata": {},
   "outputs": [
    {
     "data": {
      "image/png": "[encoded data removed]",
      "text/plain": [
       "<Figure size 640x480 with 1 Axes>"
      ]
     },
     "metadata": {},
     "output_type": "display_data"
    }
   ],
   "source": [
    "sns.lineplot(data = deviance)\n",
    "plt.title(\"Scatter Plot\")\n",
    "plt.show()"
   ]
  }
 ],
 "metadata": {
  "kernelspec": {
   "display_name": "env2",
   "language": "python",
   "name": "python3"
  },
  "language_info": {
   "codemirror_mode": {
    "name": "ipython",
    "version": 3
   },
   "file_extension": ".py",
   "mimetype": "text/x-python",
   "name": "python",
   "nbconvert_exporter": "python",
   "pygments_lexer": "ipython3",
   "version": "3.10.8"
  },
  "orig_nbformat": 4,
  "vscode": {
   "interpreter": {
    "hash": "0426ff612bc147f40ad0d8d9efeed538fe3ac66c2645a72d340f44d3aedcbe74"
   }
  }
 },
 "nbformat": 4,
 "nbformat_minor": 2
}
